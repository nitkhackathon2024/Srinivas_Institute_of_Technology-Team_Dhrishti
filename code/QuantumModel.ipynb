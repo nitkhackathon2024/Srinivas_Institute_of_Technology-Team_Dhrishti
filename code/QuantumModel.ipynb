{
 "cells": [
  {
   "cell_type": "code",
   "execution_count": 1,
   "id": "ec034bce-6226-4034-9422-a4d64952d5d3",
   "metadata": {},
   "outputs": [
    {
     "name": "stdout",
     "output_type": "stream",
     "text": [
      "Requirement already satisfied: numpy in c:\\users\\ghans\\appdata\\local\\programs\\python\\python311\\lib\\site-packages (1.26.4)\n",
      "Requirement already satisfied: pandas in c:\\users\\ghans\\appdata\\local\\programs\\python\\python311\\lib\\site-packages (2.2.3)\n",
      "Requirement already satisfied: matplotlib in c:\\users\\ghans\\appdata\\local\\programs\\python\\python311\\lib\\site-packages (3.9.2)\n",
      "Requirement already satisfied: scikit-learn in c:\\users\\ghans\\appdata\\local\\programs\\python\\python311\\lib\\site-packages (1.4.2)\n",
      "Requirement already satisfied: qiskit in c:\\users\\ghans\\appdata\\local\\programs\\python\\python311\\lib\\site-packages (1.2.4)\n",
      "Requirement already satisfied: qiskit-machine-learning in c:\\users\\ghans\\appdata\\local\\programs\\python\\python311\\lib\\site-packages (0.7.2)\n",
      "Requirement already satisfied: qiskit_algorithms in c:\\users\\ghans\\appdata\\local\\programs\\python\\python311\\lib\\site-packages (0.3.0)\n",
      "Requirement already satisfied: python-dateutil>=2.8.2 in c:\\users\\ghans\\appdata\\roaming\\python\\python311\\site-packages (from pandas) (2.9.0.post0)\n",
      "Requirement already satisfied: pytz>=2020.1 in c:\\users\\ghans\\appdata\\local\\programs\\python\\python311\\lib\\site-packages (from pandas) (2024.2)\n",
      "Requirement already satisfied: tzdata>=2022.7 in c:\\users\\ghans\\appdata\\local\\programs\\python\\python311\\lib\\site-packages (from pandas) (2024.2)\n",
      "Requirement already satisfied: contourpy>=1.0.1 in c:\\users\\ghans\\appdata\\local\\programs\\python\\python311\\lib\\site-packages (from matplotlib) (1.3.0)\n",
      "Requirement already satisfied: cycler>=0.10 in c:\\users\\ghans\\appdata\\local\\programs\\python\\python311\\lib\\site-packages (from matplotlib) (0.12.1)\n",
      "Requirement already satisfied: fonttools>=4.22.0 in c:\\users\\ghans\\appdata\\local\\programs\\python\\python311\\lib\\site-packages (from matplotlib) (4.54.1)\n",
      "Requirement already satisfied: kiwisolver>=1.3.1 in c:\\users\\ghans\\appdata\\local\\programs\\python\\python311\\lib\\site-packages (from matplotlib) (1.4.7)\n",
      "Requirement already satisfied: packaging>=20.0 in c:\\users\\ghans\\appdata\\roaming\\python\\python311\\site-packages (from matplotlib) (24.1)\n",
      "Requirement already satisfied: pillow>=8 in c:\\users\\ghans\\appdata\\local\\programs\\python\\python311\\lib\\site-packages (from matplotlib) (10.4.0)\n",
      "Requirement already satisfied: pyparsing>=2.3.1 in c:\\users\\ghans\\appdata\\local\\programs\\python\\python311\\lib\\site-packages (from matplotlib) (3.2.0)\n",
      "Requirement already satisfied: scipy>=1.6.0 in c:\\users\\ghans\\appdata\\local\\programs\\python\\python311\\lib\\site-packages (from scikit-learn) (1.11.4)\n",
      "Requirement already satisfied: joblib>=1.2.0 in c:\\users\\ghans\\appdata\\local\\programs\\python\\python311\\lib\\site-packages (from scikit-learn) (1.3.2)\n",
      "Requirement already satisfied: threadpoolctl>=2.0.0 in c:\\users\\ghans\\appdata\\local\\programs\\python\\python311\\lib\\site-packages (from scikit-learn) (3.5.0)\n",
      "Requirement already satisfied: rustworkx>=0.15.0 in c:\\users\\ghans\\appdata\\local\\programs\\python\\python311\\lib\\site-packages (from qiskit) (0.15.1)\n",
      "Requirement already satisfied: sympy>=1.3 in c:\\users\\ghans\\appdata\\local\\programs\\python\\python311\\lib\\site-packages (from qiskit) (1.13.3)\n",
      "Requirement already satisfied: dill>=0.3 in c:\\users\\ghans\\appdata\\local\\programs\\python\\python311\\lib\\site-packages (from qiskit) (0.3.9)\n",
      "Requirement already satisfied: stevedore>=3.0.0 in c:\\users\\ghans\\appdata\\local\\programs\\python\\python311\\lib\\site-packages (from qiskit) (5.3.0)\n",
      "Requirement already satisfied: typing-extensions in c:\\users\\ghans\\appdata\\roaming\\python\\python311\\site-packages (from qiskit) (4.12.2)\n",
      "Requirement already satisfied: symengine<0.14,>=0.11 in c:\\users\\ghans\\appdata\\local\\programs\\python\\python311\\lib\\site-packages (from qiskit) (0.13.0)\n",
      "Requirement already satisfied: psutil>=5 in c:\\users\\ghans\\appdata\\roaming\\python\\python311\\site-packages (from qiskit-machine-learning) (6.1.0)\n",
      "Requirement already satisfied: fastdtw in c:\\users\\ghans\\appdata\\local\\programs\\python\\python311\\lib\\site-packages (from qiskit-machine-learning) (0.3.4)\n",
      "Requirement already satisfied: setuptools>=40.1.0 in c:\\users\\ghans\\appdata\\local\\programs\\python\\python311\\lib\\site-packages (from qiskit-machine-learning) (65.5.0)\n",
      "Requirement already satisfied: six>=1.5 in c:\\users\\ghans\\appdata\\roaming\\python\\python311\\site-packages (from python-dateutil>=2.8.2->pandas) (1.16.0)\n",
      "Requirement already satisfied: pbr>=2.0.0 in c:\\users\\ghans\\appdata\\local\\programs\\python\\python311\\lib\\site-packages (from stevedore>=3.0.0->qiskit) (6.1.0)\n",
      "Requirement already satisfied: mpmath<1.4,>=1.1.0 in c:\\users\\ghans\\appdata\\local\\programs\\python\\python311\\lib\\site-packages (from sympy>=1.3->qiskit) (1.3.0)\n"
     ]
    },
    {
     "name": "stderr",
     "output_type": "stream",
     "text": [
      "WARNING: There was an error checking the latest version of pip.\n"
     ]
    }
   ],
   "source": [
    "!pip install numpy pandas matplotlib scikit-learn qiskit qiskit-machine-learning qiskit_algorithms"
   ]
  },
  {
   "cell_type": "code",
   "execution_count": 2,
   "id": "fa24894a",
   "metadata": {},
   "outputs": [],
   "source": [
    "import numpy as np\n",
    "import pandas as pd\n",
    "import matplotlib.pyplot as plt\n",
    "import time, copy, warnings\n",
    "from sklearn import linear_model, svm\n",
    "from sklearn.ensemble import GradientBoostingClassifier, RandomForestClassifier\n",
    "from sklearn.neural_network import MLPClassifier\n",
    "from sklearn.preprocessing import MinMaxScaler\n",
    "from sklearn.model_selection import train_test_split\n",
    "from sklearn.metrics import classification_report, confusion_matrix, accuracy_score, roc_auc_score\n",
    "from qiskit.circuit.library import PauliFeatureMap, ZFeatureMap, ZZFeatureMap\n",
    "from qiskit_machine_learning.circuit.library import RawFeatureVector\n",
    "from qiskit.circuit.library import RealAmplitudes\n",
    "from qiskit_algorithms.optimizers import COBYLA\n",
    "from qiskit.primitives import Sampler\n",
    "from qiskit_machine_learning.algorithms.classifiers import VQC\n",
    "from IPython.display import clear_output"
   ]
  },
  {
   "cell_type": "code",
   "execution_count": 3,
   "id": "f9ccd4ee",
   "metadata": {},
   "outputs": [],
   "source": [
    "dataset_path = \"creditcard.csv\"\n",
    "data = pd.read_csv(dataset_path)"
   ]
  },
  {
   "cell_type": "code",
   "execution_count": 4,
   "id": "c137ef0f",
   "metadata": {},
   "outputs": [
    {
     "name": "stdout",
     "output_type": "stream",
     "text": [
      "Number of normal examples = 284315\n",
      "Number of fraud examples = 492\n",
      "\n",
      "normal to fraud ratio in the whole data = 577.88\n"
     ]
    }
   ],
   "source": [
    "normal = data[data.Class==0]\n",
    "fraud = data[data.Class==1]\n",
    "num_normal = normal.shape[0] \n",
    "num_fraud = fraud.shape[0] \n",
    "print(f\"Number of normal examples = {num_normal}\")\n",
    "print(f\"Number of fraud examples = {num_fraud}\\n\")\n",
    "ratio = num_normal/num_fraud\n",
    "print(f'normal to fraud ratio in the whole data = {round(ratio,2)}')"
   ]
  },
  {
   "cell_type": "code",
   "execution_count": 7,
   "id": "7ccfffff",
   "metadata": {},
   "outputs": [
    {
     "name": "stdout",
     "output_type": "stream",
     "text": [
      "number of examples =  984\n",
      "number of features =  29\n"
     ]
    }
   ],
   "source": [
    "normal_fraud_ratio = 1\n",
    "normal_sample = normal.sample(normal_fraud_ratio*num_fraud) \n",
    "sample = pd.concat([fraud, normal_sample], axis=0)  \n",
    "for i in range(100):\n",
    "    sample = np.random.permutation(sample)                  \n",
    "X, y = sample[:,1:-1], sample[:,-1]\n",
    "X = MinMaxScaler().fit_transform(X)\n",
    "num_examples, num_features = X.shape   \n",
    "print(\"number of examples = \", num_examples)\n",
    "print(\"number of features = \", num_features)"
   ]
  },
  {
   "cell_type": "code",
   "execution_count": 10,
   "id": "e2192ec8",
   "metadata": {},
   "outputs": [
    {
     "name": "stdout",
     "output_type": "stream",
     "text": [
      "(number of qubits, dimension of the Hilbert space) = (5, 32)\n",
      "number of examples =  984\n",
      "number of features =  32\n"
     ]
    }
   ],
   "source": [
    "n = int(np.ceil(np.log2(num_features)))\n",
    "dim = 2**n\n",
    "print(f'(number of qubits, dimension of the Hilbert space) = {(n, dim)}')\n",
    "zeros = np.zeros((num_examples, dim-num_features))\n",
    "X = np.append(X, zeros, axis=1)\n",
    "num_examples, num_features = X.shape\n",
    "num_examples, num_features = X.shape   \n",
    "print(\"number of examples = \", num_examples)\n",
    "print(\"number of features = \", num_features)"
   ]
  },
  {
   "cell_type": "code",
   "execution_count": 11,
   "id": "020d8366",
   "metadata": {
    "scrolled": true
   },
   "outputs": [
    {
     "name": "stdout",
     "output_type": "stream",
     "text": [
      "(688, 32) (296, 32)\n"
     ]
    }
   ],
   "source": [
    "X_train, X_test, y_train, y_test = train_test_split(X, y, test_size=0.3, random_state=0)\n",
    "print(X_train.shape, X_test.shape)"
   ]
  },
  {
   "cell_type": "code",
   "execution_count": 12,
   "id": "bfc5360e",
   "metadata": {
    "scrolled": true
   },
   "outputs": [],
   "source": [
    "fm = ZZFeatureMap(feature_dimension=num_features, reps=1)"
   ]
  },
  {
   "cell_type": "code",
   "execution_count": 13,
   "id": "55812d71",
   "metadata": {},
   "outputs": [],
   "source": [
    "fm = RawFeatureVector(feature_dimension=num_features) "
   ]
  },
  {
   "cell_type": "code",
   "execution_count": 14,
   "id": "09033fdc",
   "metadata": {},
   "outputs": [],
   "source": [
    "pqc = RealAmplitudes(num_qubits=n, reps=3)"
   ]
  },
  {
   "cell_type": "code",
   "execution_count": 15,
   "id": "092d8331",
   "metadata": {},
   "outputs": [
    {
     "name": "stderr",
     "output_type": "stream",
     "text": [
      "C:\\Users\\ghans\\AppData\\Local\\Temp\\ipykernel_5836\\269055646.py:9: DeprecationWarning: The class ``qiskit.primitives.sampler.Sampler`` is deprecated as of qiskit 1.2. It will be removed no earlier than 3 months after the release date. All implementations of the `BaseSamplerV1` interface have been deprecated in favor of their V2 counterparts. The V2 alternative for the `Sampler` class is `StatevectorSampler`.\n",
      "  sampler = Sampler()\n"
     ]
    }
   ],
   "source": [
    "def callback(weights, obj_func_eval):\n",
    "    clear_output(wait=True)\n",
    "    objective_func_vals.append(obj_func_eval)\n",
    "    plt.xlabel(\"Iteration\")\n",
    "    plt.ylabel(\"Objective function value\")\n",
    "    plt.plot(range(len(objective_func_vals)), objective_func_vals)\n",
    "    plt.show()\n",
    "optimizer = COBYLA(maxiter=50)\n",
    "sampler = Sampler()\n",
    "objective_func_vals = []\n",
    "vqc = VQC(\n",
    "    sampler=sampler,\n",
    "    feature_map=fm,\n",
    "    ansatz=pqc,\n",
    "    optimizer=optimizer,\n",
    "    callback=callback,\n",
    ")"
   ]
  },
  {
   "cell_type": "code",
   "execution_count": 16,
   "id": "7d8a6f94",
   "metadata": {},
   "outputs": [
    {
     "data": {
      "image/png": "[encoded data removed]",
      "text/plain": [
       "<Figure size 640x480 with 1 Axes>"
      ]
     },
     "metadata": {},
     "output_type": "display_data"
    },
    {
     "name": "stdout",
     "output_type": "stream",
     "text": [
      "CPU times: total: 5min 46s\n",
      "Wall time: 6min 27s\n"
     ]
    },
    {
     "data": {
      "text/plain": [
       "<qiskit_machine_learning.algorithms.classifiers.vqc.VQC at 0x24da692dc10>"
      ]
     },
     "execution_count": 16,
     "metadata": {},
     "output_type": "execute_result"
    }
   ],
   "source": [
    "%%time\n",
    "vqc.fit(X_train, y_train)"
   ]
  },
  {
   "cell_type": "code",
   "execution_count": 17,
   "id": "28442eef",
   "metadata": {},
   "outputs": [
    {
     "name": "stdout",
     "output_type": "stream",
     "text": [
      "              precision    recall  f1-score   support\n",
      "\n",
      "         0.0       0.84      0.98      0.91       352\n",
      "         1.0       0.98      0.81      0.88       336\n",
      "\n",
      "    accuracy                           0.90       688\n",
      "   macro avg       0.91      0.89      0.90       688\n",
      "weighted avg       0.91      0.90      0.90       688\n",
      "\n",
      "[[346   6]\n",
      " [ 65 271]] = confusion matrix for train set \n",
      "\n",
      "              precision    recall  f1-score   support\n",
      "\n",
      "         0.0       0.84      0.97      0.90       140\n",
      "         1.0       0.97      0.84      0.90       156\n",
      "\n",
      "    accuracy                           0.90       296\n",
      "   macro avg       0.91      0.91      0.90       296\n",
      "weighted avg       0.91      0.90      0.90       296\n",
      "\n",
      "[[136   4]\n",
      " [ 25 131]] = confusion matrix for test set \n",
      " \n",
      "0.91 = roc_auc_score for test set \n",
      "\n"
     ]
    }
   ],
   "source": [
    "y_train_pred = vqc.predict(X_train)\n",
    "y_test_pred = vqc.predict(X_test)\n",
    "\n",
    "print(classification_report(y_train, y_train_pred))\n",
    "print(confusion_matrix(y_train, y_train_pred), \"= confusion matrix for train set \\n\")\n",
    "\n",
    "print(classification_report(y_test, y_test_pred))\n",
    "print(confusion_matrix(y_test, y_test_pred), \"= confusion matrix for test set \\n \")\n",
    "print(round(roc_auc_score(y_test, y_test_pred),2), \"= roc_auc_score for test set \\n\")"
   ]
  },
  {
   "cell_type": "code",
   "execution_count": 18,
   "id": "a1bfb347",
   "metadata": {},
   "outputs": [
    {
     "name": "stdout",
     "output_type": "stream",
     "text": [
      "======================================================================\n",
      "                     LogisticRegression() \n",
      "\n",
      "              precision    recall  f1-score   support\n",
      "\n",
      "         0.0       0.88      1.00      0.94       352\n",
      "         1.0       1.00      0.86      0.93       336\n",
      "\n",
      "    accuracy                           0.93       688\n",
      "   macro avg       0.94      0.93      0.93       688\n",
      "weighted avg       0.94      0.93      0.93       688\n",
      "\n",
      "[[351   1]\n",
      " [ 46 290]] = confusion matrix for train set \n",
      "\n",
      "              precision    recall  f1-score   support\n",
      "\n",
      "         0.0       0.90      0.99      0.94       140\n",
      "         1.0       0.99      0.90      0.94       156\n",
      "\n",
      "    accuracy                           0.94       296\n",
      "   macro avg       0.94      0.94      0.94       296\n",
      "weighted avg       0.95      0.94      0.94       296\n",
      "\n",
      "[[138   2]\n",
      " [ 15 141]] = confusion matrix for test set \n",
      "\n",
      "0.94 = roc_auc_score for test set \n",
      "\n",
      "======================================================================\n",
      "                     MLPClassifier() \n",
      "\n",
      "              precision    recall  f1-score   support\n",
      "\n",
      "         0.0       0.89      0.98      0.94       352\n",
      "         1.0       0.98      0.88      0.92       336\n",
      "\n",
      "    accuracy                           0.93       688\n",
      "   macro avg       0.94      0.93      0.93       688\n",
      "weighted avg       0.93      0.93      0.93       688\n",
      "\n",
      "[[346   6]\n",
      " [ 42 294]] = confusion matrix for train set \n",
      "\n",
      "              precision    recall  f1-score   support\n",
      "\n",
      "         0.0       0.91      0.97      0.94       140\n",
      "         1.0       0.97      0.91      0.94       156\n",
      "\n",
      "    accuracy                           0.94       296\n",
      "   macro avg       0.94      0.94      0.94       296\n",
      "weighted avg       0.94      0.94      0.94       296\n",
      "\n",
      "[[136   4]\n",
      " [ 14 142]] = confusion matrix for test set \n",
      "\n",
      "0.94 = roc_auc_score for test set \n",
      "\n",
      "======================================================================\n",
      "                     SVC() \n",
      "\n",
      "              precision    recall  f1-score   support\n",
      "\n",
      "         0.0       0.88      1.00      0.93       352\n",
      "         1.0       1.00      0.86      0.92       336\n",
      "\n",
      "    accuracy                           0.93       688\n",
      "   macro avg       0.94      0.93      0.93       688\n",
      "weighted avg       0.94      0.93      0.93       688\n",
      "\n",
      "[[351   1]\n",
      " [ 48 288]] = confusion matrix for train set \n",
      "\n",
      "              precision    recall  f1-score   support\n",
      "\n",
      "         0.0       0.89      0.99      0.94       140\n",
      "         1.0       0.99      0.89      0.94       156\n",
      "\n",
      "    accuracy                           0.94       296\n",
      "   macro avg       0.94      0.94      0.94       296\n",
      "weighted avg       0.94      0.94      0.94       296\n",
      "\n",
      "[[139   1]\n",
      " [ 17 139]] = confusion matrix for test set \n",
      "\n",
      "0.94 = roc_auc_score for test set \n",
      "\n",
      "======================================================================\n",
      "                     RandomForestClassifier() \n",
      "\n",
      "              precision    recall  f1-score   support\n",
      "\n",
      "         0.0       1.00      1.00      1.00       352\n",
      "         1.0       1.00      1.00      1.00       336\n",
      "\n",
      "    accuracy                           1.00       688\n",
      "   macro avg       1.00      1.00      1.00       688\n",
      "weighted avg       1.00      1.00      1.00       688\n",
      "\n",
      "[[352   0]\n",
      " [  0 336]] = confusion matrix for train set \n",
      "\n",
      "              precision    recall  f1-score   support\n",
      "\n",
      "         0.0       0.92      0.96      0.94       140\n",
      "         1.0       0.97      0.92      0.94       156\n",
      "\n",
      "    accuracy                           0.94       296\n",
      "   macro avg       0.94      0.94      0.94       296\n",
      "weighted avg       0.94      0.94      0.94       296\n",
      "\n",
      "[[135   5]\n",
      " [ 12 144]] = confusion matrix for test set \n",
      "\n",
      "0.94 = roc_auc_score for test set \n",
      "\n",
      "======================================================================\n",
      "CPU times: total: 3.59 s\n",
      "Wall time: 3.28 s\n"
     ]
    }
   ],
   "source": [
    "%%time\n",
    "warnings.filterwarnings('ignore')\n",
    "\n",
    "def train_test(ML_model):\n",
    "    print(20*' ', ML_model,'\\n')\n",
    "    ML_model.fit(X_train, y_train)                          # fit model\n",
    "    \n",
    "    y_train_pred = ML_model.predict(X_train)       # predict with the trained model\n",
    "    y_test_pred = ML_model.predict(X_test)\n",
    "    \n",
    "    \n",
    "    print(classification_report(y_train, y_train_pred))     # evaluate model performance \n",
    "    print(confusion_matrix(y_train, y_train_pred), \"= confusion matrix for train set \\n\")\n",
    "\n",
    "    print(classification_report(y_test, y_test_pred))\n",
    "    print(confusion_matrix(y_test, y_test_pred), \"= confusion matrix for test set \\n\")\n",
    "    print(round(roc_auc_score(y_test, y_test_pred),2), \"= roc_auc_score for test set \\n\")\n",
    "    \n",
    "    print(70*'=')\n",
    "    \n",
    "\n",
    "#----------------------------------------------------------------------------------\n",
    "\n",
    "print(70*'=')\n",
    "ML_model = linear_model.LogisticRegression()            # create model instance\n",
    "train_test(ML_model)\n",
    "\n",
    "\n",
    "ML_model = MLPClassifier()                            \n",
    "train_test(ML_model)\n",
    "\n",
    "\n",
    "ML_model = svm.SVC() \n",
    "train_test(ML_model)\n",
    "\n",
    "\n",
    "ML_model = RandomForestClassifier()\n",
    "train_test(ML_model)"
   ]
  },
  {
   "cell_type": "code",
   "execution_count": 19,
   "id": "4e8129c6",
   "metadata": {},
   "outputs": [
    {
     "data": {
      "text/plain": [
       "['vqc_model.pkl']"
      ]
     },
     "execution_count": 19,
     "metadata": {},
     "output_type": "execute_result"
    }
   ],
   "source": [
    "import joblib\n",
    "joblib.dump(vqc, 'vqc_model.pkl')"
   ]
  },
  {
   "cell_type": "code",
   "execution_count": 21,
   "id": "262f80c3",
   "metadata": {},
   "outputs": [
    {
     "data": {
      "text/plain": [
       "['scaler.pkl']"
      ]
     },
     "execution_count": 21,
     "metadata": {},
     "output_type": "execute_result"
    }
   ],
   "source": [
    "from sklearn.preprocessing import MinMaxScaler\n",
    "import joblib\n",
    "\n",
    "scaler = MinMaxScaler()\n",
    "X_train_scaled = scaler.fit_transform(X_train)\n",
    "\n",
    "joblib.dump(scaler, 'scaler.pkl')\n"
   ]
  }
 ],
 "metadata": {
  "kernelspec": {
   "display_name": "Python 3 (ipykernel)",
   "language": "python",
   "name": "python3"
  },
  "language_info": {
   "codemirror_mode": {
    "name": "ipython",
    "version": 3
   },
   "file_extension": ".py",
   "mimetype": "text/x-python",
   "name": "python",
   "nbconvert_exporter": "python",
   "pygments_lexer": "ipython3",
   "version": "3.11.0"
  }
 },
 "nbformat": 4,
 "nbformat_minor": 5
}
